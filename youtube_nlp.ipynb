{
 "cells": [
  {
   "cell_type": "code",
   "execution_count": 1,
   "metadata": {},
   "outputs": [],
   "source": [
    "%matplotlib inline\n",
    "import re\n",
    "import matplotlib\n",
    "import numpy as np\n",
    "import matplotlib.pyplot as plt\n",
    "import pandas as pd\n",
    "import seaborn as sns"
   ]
  },
  {
   "cell_type": "code",
   "execution_count": 2,
   "metadata": {},
   "outputs": [],
   "source": [
    "pd.options.display.max_colwidth = 100"
   ]
  },
  {
   "cell_type": "code",
   "execution_count": 4,
   "metadata": {},
   "outputs": [],
   "source": [
    "df = pd.read_csv('compounds.csv',header = None)"
   ]
  },
  {
   "cell_type": "code",
   "execution_count": 5,
   "metadata": {},
   "outputs": [],
   "source": [
    "view_stats = df.iloc[0,:]"
   ]
  },
  {
   "cell_type": "code",
   "execution_count": 6,
   "metadata": {},
   "outputs": [
    {
     "name": "stdout",
     "output_type": "stream",
     "text": [
      "so we have Thanks to everyone for your lovely comments ❤️We are a family now. 😎 view counts, 0.7717 likes, 1 dislikes. \n"
     ]
    }
   ],
   "source": [
    "print(\"so we have \" + str(view_stats[0]) +\" view counts, \"+str(view_stats[1])+\" likes, \"+str(view_stats[2])+\" dislikes. \")"
   ]
  },
  {
   "cell_type": "code",
   "execution_count": 7,
   "metadata": {},
   "outputs": [
    {
     "ename": "KeyboardInterrupt",
     "evalue": "",
     "output_type": "error",
     "traceback": [
      "\u001b[0;31m---------------------------------------------------------------------------\u001b[0m",
      "\u001b[0;31mKeyboardInterrupt\u001b[0m                         Traceback (most recent call last)",
      "\u001b[1;32m/Users/oreotamish/Desktop/Coding/youtube/youtube_nlp.ipynb Cell 6\u001b[0m line \u001b[0;36m9\n\u001b[1;32m      <a href='vscode-notebook-cell:/Users/oreotamish/Desktop/Coding/youtube/youtube_nlp.ipynb#W6sZmlsZQ%3D%3D?line=4'>5</a>\u001b[0m values \u001b[39m=\u001b[39m [view_stats[\u001b[39m1\u001b[39m],view_stats[\u001b[39m2\u001b[39m]]\n\u001b[1;32m      <a href='vscode-notebook-cell:/Users/oreotamish/Desktop/Coding/youtube/youtube_nlp.ipynb#W6sZmlsZQ%3D%3D?line=6'>7</a>\u001b[0m trace \u001b[39m=\u001b[39m go\u001b[39m.\u001b[39mPie(labels\u001b[39m=\u001b[39mlabels, values\u001b[39m=\u001b[39mvalues)\n\u001b[0;32m----> <a href='vscode-notebook-cell:/Users/oreotamish/Desktop/Coding/youtube/youtube_nlp.ipynb#W6sZmlsZQ%3D%3D?line=8'>9</a>\u001b[0m py\u001b[39m.\u001b[39;49miplot([trace], filename\u001b[39m=\u001b[39;49m\u001b[39m'\u001b[39;49m\u001b[39mbasic_pie_chart\u001b[39;49m\u001b[39m'\u001b[39;49m)\n",
      "File \u001b[0;32m/Library/Frameworks/Python.framework/Versions/3.12/lib/python3.12/site-packages/chart_studio/plotly/plotly.py:135\u001b[0m, in \u001b[0;36miplot\u001b[0;34m(figure_or_data, **plot_options)\u001b[0m\n\u001b[1;32m    133\u001b[0m \u001b[39mif\u001b[39;00m \u001b[39m\"\u001b[39m\u001b[39mauto_open\u001b[39m\u001b[39m\"\u001b[39m \u001b[39mnot\u001b[39;00m \u001b[39min\u001b[39;00m plot_options:\n\u001b[1;32m    134\u001b[0m     plot_options[\u001b[39m\"\u001b[39m\u001b[39mauto_open\u001b[39m\u001b[39m\"\u001b[39m] \u001b[39m=\u001b[39m \u001b[39mFalse\u001b[39;00m\n\u001b[0;32m--> 135\u001b[0m url \u001b[39m=\u001b[39m plot(figure_or_data, \u001b[39m*\u001b[39;49m\u001b[39m*\u001b[39;49mplot_options)\n\u001b[1;32m    137\u001b[0m \u001b[39mif\u001b[39;00m \u001b[39misinstance\u001b[39m(figure_or_data, \u001b[39mdict\u001b[39m):\n\u001b[1;32m    138\u001b[0m     layout \u001b[39m=\u001b[39m figure_or_data\u001b[39m.\u001b[39mget(\u001b[39m\"\u001b[39m\u001b[39mlayout\u001b[39m\u001b[39m\"\u001b[39m, {})\n",
      "File \u001b[0;32m/Library/Frameworks/Python.framework/Versions/3.12/lib/python3.12/site-packages/chart_studio/plotly/plotly.py:276\u001b[0m, in \u001b[0;36mplot\u001b[0;34m(figure_or_data, validate, **plot_options)\u001b[0m\n\u001b[1;32m    273\u001b[0m \u001b[39melse\u001b[39;00m:\n\u001b[1;32m    274\u001b[0m     grid_filename \u001b[39m=\u001b[39m filename \u001b[39m+\u001b[39m \u001b[39m\"\u001b[39m\u001b[39m_grid\u001b[39m\u001b[39m\"\u001b[39m\n\u001b[0;32m--> 276\u001b[0m grid_ops\u001b[39m.\u001b[39;49mupload(\n\u001b[1;32m    277\u001b[0m     grid\u001b[39m=\u001b[39;49mgrid,\n\u001b[1;32m    278\u001b[0m     filename\u001b[39m=\u001b[39;49mgrid_filename,\n\u001b[1;32m    279\u001b[0m     world_readable\u001b[39m=\u001b[39;49mpayload[\u001b[39m\"\u001b[39;49m\u001b[39mworld_readable\u001b[39;49m\u001b[39m\"\u001b[39;49m],\n\u001b[1;32m    280\u001b[0m     auto_open\u001b[39m=\u001b[39;49m\u001b[39mFalse\u001b[39;49;00m,\n\u001b[1;32m    281\u001b[0m )\n\u001b[1;32m    283\u001b[0m _set_grid_column_references(figure, grid)\n\u001b[1;32m    284\u001b[0m payload[\u001b[39m\"\u001b[39m\u001b[39mfigure\u001b[39m\u001b[39m\"\u001b[39m] \u001b[39m=\u001b[39m figure\n",
      "File \u001b[0;32m/Library/Frameworks/Python.framework/Versions/3.12/lib/python3.12/site-packages/chart_studio/plotly/plotly.py:1087\u001b[0m, in \u001b[0;36mgrid_ops.upload\u001b[0;34m(cls, grid, filename, world_readable, auto_open, meta)\u001b[0m\n\u001b[1;32m   1084\u001b[0m     \u001b[39mif\u001b[39;00m parent_path:\n\u001b[1;32m   1085\u001b[0m         payload[\u001b[39m\"\u001b[39m\u001b[39mparent_path\u001b[39m\u001b[39m\"\u001b[39m] \u001b[39m=\u001b[39m parent_path\n\u001b[0;32m-> 1087\u001b[0m file_info \u001b[39m=\u001b[39m _create_or_overwrite_grid(payload)\n\u001b[1;32m   1089\u001b[0m cols \u001b[39m=\u001b[39m file_info[\u001b[39m\"\u001b[39m\u001b[39mcols\u001b[39m\u001b[39m\"\u001b[39m]\n\u001b[1;32m   1090\u001b[0m fid \u001b[39m=\u001b[39m file_info[\u001b[39m\"\u001b[39m\u001b[39mfid\u001b[39m\u001b[39m\"\u001b[39m]\n",
      "File \u001b[0;32m/Library/Frameworks/Python.framework/Versions/3.12/lib/python3.12/site-packages/chart_studio/plotly/plotly.py:1528\u001b[0m, in \u001b[0;36m_create_or_overwrite_grid\u001b[0;34m(data, max_retries)\u001b[0m\n\u001b[1;32m   1526\u001b[0m \u001b[39mif\u001b[39;00m filename:\n\u001b[1;32m   1527\u001b[0m     \u001b[39mtry\u001b[39;00m:\n\u001b[0;32m-> 1528\u001b[0m         lookup_res \u001b[39m=\u001b[39m v2\u001b[39m.\u001b[39;49mfiles\u001b[39m.\u001b[39;49mlookup(filename)\n\u001b[1;32m   1529\u001b[0m         \u001b[39mif\u001b[39;00m \u001b[39misinstance\u001b[39m(lookup_res\u001b[39m.\u001b[39mcontent, \u001b[39mbytes\u001b[39m):\n\u001b[1;32m   1530\u001b[0m             content \u001b[39m=\u001b[39m lookup_res\u001b[39m.\u001b[39mcontent\u001b[39m.\u001b[39mdecode(\u001b[39m\"\u001b[39m\u001b[39mutf-8\u001b[39m\u001b[39m\"\u001b[39m)\n",
      "File \u001b[0;32m/Library/Frameworks/Python.framework/Versions/3.12/lib/python3.12/site-packages/chart_studio/api/v2/files.py:85\u001b[0m, in \u001b[0;36mlookup\u001b[0;34m(path, parent, user, exists)\u001b[0m\n\u001b[1;32m     83\u001b[0m url \u001b[39m=\u001b[39m build_url(RESOURCE, route\u001b[39m=\u001b[39m\u001b[39m\"\u001b[39m\u001b[39mlookup\u001b[39m\u001b[39m\"\u001b[39m)\n\u001b[1;32m     84\u001b[0m params \u001b[39m=\u001b[39m make_params(path\u001b[39m=\u001b[39mpath, parent\u001b[39m=\u001b[39mparent, user\u001b[39m=\u001b[39muser, exists\u001b[39m=\u001b[39mexists)\n\u001b[0;32m---> 85\u001b[0m \u001b[39mreturn\u001b[39;00m request(\u001b[39m\"\u001b[39;49m\u001b[39mget\u001b[39;49m\u001b[39m\"\u001b[39;49m, url, params\u001b[39m=\u001b[39;49mparams)\n",
      "File \u001b[0;32m/Library/Frameworks/Python.framework/Versions/3.12/lib/python3.12/site-packages/retrying.py:56\u001b[0m, in \u001b[0;36mretry.<locals>.wrap.<locals>.wrapped_f\u001b[0;34m(*args, **kw)\u001b[0m\n\u001b[1;32m     54\u001b[0m \u001b[39m@six\u001b[39m\u001b[39m.\u001b[39mwraps(f)\n\u001b[1;32m     55\u001b[0m \u001b[39mdef\u001b[39;00m \u001b[39mwrapped_f\u001b[39m(\u001b[39m*\u001b[39margs, \u001b[39m*\u001b[39m\u001b[39m*\u001b[39mkw):\n\u001b[0;32m---> 56\u001b[0m     \u001b[39mreturn\u001b[39;00m Retrying(\u001b[39m*\u001b[39;49mdargs, \u001b[39m*\u001b[39;49m\u001b[39m*\u001b[39;49mdkw)\u001b[39m.\u001b[39;49mcall(f, \u001b[39m*\u001b[39;49margs, \u001b[39m*\u001b[39;49m\u001b[39m*\u001b[39;49mkw)\n",
      "File \u001b[0;32m/Library/Frameworks/Python.framework/Versions/3.12/lib/python3.12/site-packages/retrying.py:274\u001b[0m, in \u001b[0;36mRetrying.call\u001b[0;34m(self, fn, *args, **kwargs)\u001b[0m\n\u001b[1;32m    272\u001b[0m         jitter \u001b[39m=\u001b[39m random\u001b[39m.\u001b[39mrandom() \u001b[39m*\u001b[39m \u001b[39mself\u001b[39m\u001b[39m.\u001b[39m_wait_jitter_max\n\u001b[1;32m    273\u001b[0m         sleep \u001b[39m=\u001b[39m sleep \u001b[39m+\u001b[39m \u001b[39mmax\u001b[39m(\u001b[39m0\u001b[39m, jitter)\n\u001b[0;32m--> 274\u001b[0m     time\u001b[39m.\u001b[39;49msleep(sleep \u001b[39m/\u001b[39;49m \u001b[39m1000.0\u001b[39;49m)\n\u001b[1;32m    276\u001b[0m attempt_number \u001b[39m+\u001b[39m\u001b[39m=\u001b[39m \u001b[39m1\u001b[39m\n",
      "\u001b[0;31mKeyboardInterrupt\u001b[0m: "
     ]
    }
   ],
   "source": [
    "import chart_studio.plotly as py\n",
    "import plotly.graph_objs as go\n",
    "\n",
    "labels = ['Likecout','Dislikecount']\n",
    "values = [view_stats[1],view_stats[2]]\n",
    "\n",
    "trace = go.Pie(labels=labels, values=values)\n",
    "\n",
    "py.iplot([trace], filename='basic_pie_chart')"
   ]
  },
  {
   "cell_type": "markdown",
   "metadata": {},
   "source": []
  },
  {
   "cell_type": "code",
   "execution_count": 8,
   "metadata": {},
   "outputs": [],
   "source": [
    "df = df.drop(index = 0)\n"
   ]
  },
  {
   "cell_type": "code",
   "execution_count": 9,
   "metadata": {},
   "outputs": [],
   "source": [
    "df = df.rename(columns = {0:'text',1:'score',2:'likecount'})"
   ]
  },
  {
   "cell_type": "code",
   "execution_count": 10,
   "metadata": {},
   "outputs": [],
   "source": [
    "df = df.reset_index(drop = True)"
   ]
  },
  {
   "cell_type": "code",
   "execution_count": 12,
   "metadata": {},
   "outputs": [
    {
     "name": "stderr",
     "output_type": "stream",
     "text": [
      "<>:16: SyntaxWarning:\n",
      "\n",
      "invalid escape sequence '\\W'\n",
      "\n",
      "<>:17: SyntaxWarning:\n",
      "\n",
      "invalid escape sequence '\\s'\n",
      "\n",
      "<>:16: SyntaxWarning:\n",
      "\n",
      "invalid escape sequence '\\W'\n",
      "\n",
      "<>:17: SyntaxWarning:\n",
      "\n",
      "invalid escape sequence '\\s'\n",
      "\n",
      "/var/folders/8m/6kbfrpsj4y77jz7z9y_smv1c0000gn/T/ipykernel_39497/36657915.py:16: SyntaxWarning:\n",
      "\n",
      "invalid escape sequence '\\W'\n",
      "\n",
      "/var/folders/8m/6kbfrpsj4y77jz7z9y_smv1c0000gn/T/ipykernel_39497/36657915.py:17: SyntaxWarning:\n",
      "\n",
      "invalid escape sequence '\\s'\n",
      "\n"
     ]
    }
   ],
   "source": [
    "def Clean_Text(text):\n",
    "\n",
    "    text = text.lower()\n",
    "    text = re.sub(r\"what's\", \"what is \", text)\n",
    "    text = re.sub(r\"\\'s\", \" \", text)\n",
    "    text = re.sub(r\"\\'ve\", \" have \", text)\n",
    "    text = re.sub(r\"can't\", \"can not \", text)\n",
    "    text = re.sub(r\"n't\", \" not \", text)\n",
    "    text = re.sub(r\"i'm\", \"i am \", text)\n",
    "    text = re.sub(r\"he's\",\"he is \",text)\n",
    "    text = re.sub(r\"she's\",\"she is \",text)\n",
    "    text = re.sub(r\"\\'re\", \" are \", text)\n",
    "    text = re.sub(r\"\\'d\", \" would \", text)\n",
    "    text = re.sub(r\"\\'ll\", \" will \", text)\n",
    "    text = re.sub(r\"\\'scuse\", \" excuse \", text)\n",
    "    text = re.sub('\\W', ' ', text)\n",
    "    text = re.sub('\\s+', ' ', text)\n",
    "    text = re.sub(r'[^\\w\\s]','',text)\n",
    "    text = text.strip(' ')\n",
    "    return text\n"
   ]
  },
  {
   "cell_type": "code",
   "execution_count": 13,
   "metadata": {},
   "outputs": [],
   "source": [
    "df['clean_text'] = df['text'].map(lambda com:Clean_Text(com))"
   ]
  },
  {
   "cell_type": "code",
   "execution_count": 14,
   "metadata": {
    "scrolled": true
   },
   "outputs": [
    {
     "data": {
      "text/html": [
       "<div>\n",
       "<style scoped>\n",
       "    .dataframe tbody tr th:only-of-type {\n",
       "        vertical-align: middle;\n",
       "    }\n",
       "\n",
       "    .dataframe tbody tr th {\n",
       "        vertical-align: top;\n",
       "    }\n",
       "\n",
       "    .dataframe thead th {\n",
       "        text-align: right;\n",
       "    }\n",
       "</style>\n",
       "<table border=\"1\" class=\"dataframe\">\n",
       "  <thead>\n",
       "    <tr style=\"text-align: right;\">\n",
       "      <th></th>\n",
       "      <th>text</th>\n",
       "      <th>score</th>\n",
       "      <th>likecount</th>\n",
       "      <th>clean_text</th>\n",
       "    </tr>\n",
       "  </thead>\n",
       "  <tbody>\n",
       "    <tr>\n",
       "      <th>0</th>\n",
       "      <td>wonderful voice \\r\\nI want can  you sing a Oriya song for me  on my lyrics 💚</td>\n",
       "      <td>0.6124</td>\n",
       "      <td>0</td>\n",
       "      <td>wonderful voice i want can you sing a oriya song for me on my lyrics</td>\n",
       "    </tr>\n",
       "    <tr>\n",
       "      <th>1</th>\n",
       "      <td>It is sooo gooooddddd... melodious voice ♥️♥️</td>\n",
       "      <td>0.0000</td>\n",
       "      <td>0</td>\n",
       "      <td>it is sooo gooooddddd melodious voice</td>\n",
       "    </tr>\n",
       "    <tr>\n",
       "      <th>2</th>\n",
       "      <td>😳😳😳</td>\n",
       "      <td>0.0000</td>\n",
       "      <td>0</td>\n",
       "      <td></td>\n",
       "    </tr>\n",
       "    <tr>\n",
       "      <th>3</th>\n",
       "      <td>Wonderful work !</td>\n",
       "      <td>0.6114</td>\n",
       "      <td>0</td>\n",
       "      <td>wonderful work</td>\n",
       "    </tr>\n",
       "    <tr>\n",
       "      <th>4</th>\n",
       "      <td>Great singing🎼🎤🎧Audio Visual delight Dear Manan👆👌</td>\n",
       "      <td>0.8910</td>\n",
       "      <td>1</td>\n",
       "      <td>great singing audio visual delight dear manan</td>\n",
       "    </tr>\n",
       "    <tr>\n",
       "      <th>5</th>\n",
       "      <td>Bhut sundar 👌</td>\n",
       "      <td>0.0000</td>\n",
       "      <td>1</td>\n",
       "      <td>bhut sundar</td>\n",
       "    </tr>\n",
       "    <tr>\n",
       "      <th>6</th>\n",
       "      <td>👍👍👍</td>\n",
       "      <td>0.0000</td>\n",
       "      <td>1</td>\n",
       "      <td></td>\n",
       "    </tr>\n",
       "    <tr>\n",
       "      <th>7</th>\n",
       "      <td>🌼</td>\n",
       "      <td>0.0000</td>\n",
       "      <td>1</td>\n",
       "      <td></td>\n",
       "    </tr>\n",
       "    <tr>\n",
       "      <th>8</th>\n",
       "      <td>That's awesome effort ..</td>\n",
       "      <td>0.6249</td>\n",
       "      <td>1</td>\n",
       "      <td>that awesome effort</td>\n",
       "    </tr>\n",
       "    <tr>\n",
       "      <th>9</th>\n",
       "      <td>That's amazing !! Keep going</td>\n",
       "      <td>0.6580</td>\n",
       "      <td>1</td>\n",
       "      <td>that amazing keep going</td>\n",
       "    </tr>\n",
       "  </tbody>\n",
       "</table>\n",
       "</div>"
      ],
      "text/plain": [
       "                                                                           text  \\\n",
       "0  wonderful voice \\r\\nI want can  you sing a Oriya song for me  on my lyrics 💚   \n",
       "1                                 It is sooo gooooddddd... melodious voice ♥️♥️   \n",
       "2                                                                           😳😳😳   \n",
       "3                                                              Wonderful work !   \n",
       "4                             Great singing🎼🎤🎧Audio Visual delight Dear Manan👆👌   \n",
       "5                                                                 Bhut sundar 👌   \n",
       "6                                                                           👍👍👍   \n",
       "7                                                                             🌼   \n",
       "8                                                      That's awesome effort ..   \n",
       "9                                                  That's amazing !! Keep going   \n",
       "\n",
       "    score  likecount  \\\n",
       "0  0.6124          0   \n",
       "1  0.0000          0   \n",
       "2  0.0000          0   \n",
       "3  0.6114          0   \n",
       "4  0.8910          1   \n",
       "5  0.0000          1   \n",
       "6  0.0000          1   \n",
       "7  0.0000          1   \n",
       "8  0.6249          1   \n",
       "9  0.6580          1   \n",
       "\n",
       "                                                             clean_text  \n",
       "0  wonderful voice i want can you sing a oriya song for me on my lyrics  \n",
       "1                                 it is sooo gooooddddd melodious voice  \n",
       "2                                                                        \n",
       "3                                                        wonderful work  \n",
       "4                         great singing audio visual delight dear manan  \n",
       "5                                                           bhut sundar  \n",
       "6                                                                        \n",
       "7                                                                        \n",
       "8                                                   that awesome effort  \n",
       "9                                               that amazing keep going  "
      ]
     },
     "execution_count": 14,
     "metadata": {},
     "output_type": "execute_result"
    }
   ],
   "source": [
    "df.head(10)\n"
   ]
  },
  {
   "cell_type": "markdown",
   "metadata": {},
   "source": [
    "So now since we have `cleaned text`, we are going to try use NLTK again to see the new score."
   ]
  },
  {
   "cell_type": "code",
   "execution_count": 15,
   "metadata": {},
   "outputs": [],
   "source": [
    "from nltk.sentiment.vader import SentimentIntensityAnalyzer as sid\n",
    "sid = sid()\n",
    "df['clean_text_score'] = df['clean_text'].map(lambda com:sid.polarity_scores(com)['compound'])"
   ]
  },
  {
   "cell_type": "code",
   "execution_count": 16,
   "metadata": {},
   "outputs": [
    {
     "data": {
      "text/html": [
       "<div>\n",
       "<style scoped>\n",
       "    .dataframe tbody tr th:only-of-type {\n",
       "        vertical-align: middle;\n",
       "    }\n",
       "\n",
       "    .dataframe tbody tr th {\n",
       "        vertical-align: top;\n",
       "    }\n",
       "\n",
       "    .dataframe thead th {\n",
       "        text-align: right;\n",
       "    }\n",
       "</style>\n",
       "<table border=\"1\" class=\"dataframe\">\n",
       "  <thead>\n",
       "    <tr style=\"text-align: right;\">\n",
       "      <th></th>\n",
       "      <th>text</th>\n",
       "      <th>score</th>\n",
       "      <th>likecount</th>\n",
       "      <th>clean_text</th>\n",
       "      <th>clean_text_score</th>\n",
       "    </tr>\n",
       "  </thead>\n",
       "  <tbody>\n",
       "    <tr>\n",
       "      <th>0</th>\n",
       "      <td>wonderful voice \\r\\nI want can  you sing a Oriya song for me  on my lyrics 💚</td>\n",
       "      <td>0.6124</td>\n",
       "      <td>0</td>\n",
       "      <td>wonderful voice i want can you sing a oriya song for me on my lyrics</td>\n",
       "      <td>0.6124</td>\n",
       "    </tr>\n",
       "    <tr>\n",
       "      <th>1</th>\n",
       "      <td>It is sooo gooooddddd... melodious voice ♥️♥️</td>\n",
       "      <td>0.0000</td>\n",
       "      <td>0</td>\n",
       "      <td>it is sooo gooooddddd melodious voice</td>\n",
       "      <td>0.0000</td>\n",
       "    </tr>\n",
       "    <tr>\n",
       "      <th>2</th>\n",
       "      <td>😳😳😳</td>\n",
       "      <td>0.0000</td>\n",
       "      <td>0</td>\n",
       "      <td></td>\n",
       "      <td>0.0000</td>\n",
       "    </tr>\n",
       "  </tbody>\n",
       "</table>\n",
       "</div>"
      ],
      "text/plain": [
       "                                                                           text  \\\n",
       "0  wonderful voice \\r\\nI want can  you sing a Oriya song for me  on my lyrics 💚   \n",
       "1                                 It is sooo gooooddddd... melodious voice ♥️♥️   \n",
       "2                                                                           😳😳😳   \n",
       "\n",
       "    score  likecount  \\\n",
       "0  0.6124          0   \n",
       "1  0.0000          0   \n",
       "2  0.0000          0   \n",
       "\n",
       "                                                             clean_text  \\\n",
       "0  wonderful voice i want can you sing a oriya song for me on my lyrics   \n",
       "1                                 it is sooo gooooddddd melodious voice   \n",
       "2                                                                         \n",
       "\n",
       "   clean_text_score  \n",
       "0            0.6124  \n",
       "1            0.0000  \n",
       "2            0.0000  "
      ]
     },
     "execution_count": 16,
     "metadata": {},
     "output_type": "execute_result"
    }
   ],
   "source": [
    "df.head(3)"
   ]
  },
  {
   "cell_type": "code",
   "execution_count": 17,
   "metadata": {},
   "outputs": [
    {
     "name": "stdout",
     "output_type": "stream",
     "text": [
      "Overall Sentiment Score: 0.36758263888888887\n"
     ]
    }
   ],
   "source": [
    "overall_score = df['clean_text_score'].mean()  # Or you can use .sum() for the sum\n",
    "\n",
    "print(\"Overall Sentiment Score:\", overall_score)"
   ]
  },
  {
   "cell_type": "code",
   "execution_count": 18,
   "metadata": {},
   "outputs": [],
   "source": [
    "df_like_ranking = df.sort_values('likecount',ascending = False)"
   ]
  },
  {
   "cell_type": "code",
   "execution_count": 19,
   "metadata": {},
   "outputs": [
    {
     "data": {
      "text/html": [
       "<div>\n",
       "<style scoped>\n",
       "    .dataframe tbody tr th:only-of-type {\n",
       "        vertical-align: middle;\n",
       "    }\n",
       "\n",
       "    .dataframe tbody tr th {\n",
       "        vertical-align: top;\n",
       "    }\n",
       "\n",
       "    .dataframe thead th {\n",
       "        text-align: right;\n",
       "    }\n",
       "</style>\n",
       "<table border=\"1\" class=\"dataframe\">\n",
       "  <thead>\n",
       "    <tr style=\"text-align: right;\">\n",
       "      <th></th>\n",
       "      <th>text</th>\n",
       "      <th>score</th>\n",
       "      <th>likecount</th>\n",
       "      <th>clean_text</th>\n",
       "      <th>clean_text_score</th>\n",
       "    </tr>\n",
       "  </thead>\n",
       "  <tbody>\n",
       "    <tr>\n",
       "      <th>114</th>\n",
       "      <td>It's short but ÑïÇë \\r\\nJust a suggestion increase the no of lines 😇</td>\n",
       "      <td>0.0387</td>\n",
       "      <td>10</td>\n",
       "      <td>it short but ñïçë just a suggestion increase the no of lines</td>\n",
       "      <td>0.0387</td>\n",
       "    </tr>\n",
       "    <tr>\n",
       "      <th>79</th>\n",
       "      <td>Keep it up dear, achieve more and more in life, may success always be yours. Stay blessed.Congra...</td>\n",
       "      <td>0.7430</td>\n",
       "      <td>8</td>\n",
       "      <td>keep it up dear achieve more and more in life may success always be yours stay blessed congrats ...</td>\n",
       "      <td>0.9274</td>\n",
       "    </tr>\n",
       "    <tr>\n",
       "      <th>127</th>\n",
       "      <td>congrats to the whole team!!\\r\\n🙌🙌🙌👌</td>\n",
       "      <td>0.6103</td>\n",
       "      <td>6</td>\n",
       "      <td>congrats to the whole team</td>\n",
       "      <td>0.5267</td>\n",
       "    </tr>\n",
       "    <tr>\n",
       "      <th>133</th>\n",
       "      <td>Amazing Biro ❤👌</td>\n",
       "      <td>0.5859</td>\n",
       "      <td>6</td>\n",
       "      <td>amazing biro</td>\n",
       "      <td>0.5859</td>\n",
       "    </tr>\n",
       "    <tr>\n",
       "      <th>109</th>\n",
       "      <td>Really happy for all of you... Keep going on and on.... My good wishes to you all🥰</td>\n",
       "      <td>0.8173</td>\n",
       "      <td>5</td>\n",
       "      <td>really happy for all of you keep going on and on my good wishes to you all</td>\n",
       "      <td>0.8173</td>\n",
       "    </tr>\n",
       "    <tr>\n",
       "      <th>115</th>\n",
       "      <td>Such an amazing composition, keep going 👍🏻👍🏻</td>\n",
       "      <td>0.5859</td>\n",
       "      <td>4</td>\n",
       "      <td>such an amazing composition keep going</td>\n",
       "      <td>0.5859</td>\n",
       "    </tr>\n",
       "    <tr>\n",
       "      <th>52</th>\n",
       "      <td>You are great manan broo keep it uppp</td>\n",
       "      <td>0.6249</td>\n",
       "      <td>4</td>\n",
       "      <td>you are great manan broo keep it uppp</td>\n",
       "      <td>0.6249</td>\n",
       "    </tr>\n",
       "    <tr>\n",
       "      <th>41</th>\n",
       "      <td>❤️✨🌸</td>\n",
       "      <td>0.0000</td>\n",
       "      <td>4</td>\n",
       "      <td></td>\n",
       "      <td>0.0000</td>\n",
       "    </tr>\n",
       "    <tr>\n",
       "      <th>76</th>\n",
       "      <td>Congratulations for your first song brother ❤️😘</td>\n",
       "      <td>0.5994</td>\n",
       "      <td>4</td>\n",
       "      <td>congratulations for your first song brother</td>\n",
       "      <td>0.5994</td>\n",
       "    </tr>\n",
       "    <tr>\n",
       "      <th>91</th>\n",
       "      <td>Bohut hard 🥰🥰🥰</td>\n",
       "      <td>-0.1027</td>\n",
       "      <td>4</td>\n",
       "      <td>bohut hard</td>\n",
       "      <td>-0.1027</td>\n",
       "    </tr>\n",
       "  </tbody>\n",
       "</table>\n",
       "</div>"
      ],
      "text/plain": [
       "                                                                                                    text  \\\n",
       "114                                 It's short but ÑïÇë \\r\\nJust a suggestion increase the no of lines 😇   \n",
       "79   Keep it up dear, achieve more and more in life, may success always be yours. Stay blessed.Congra...   \n",
       "127                                                                 congrats to the whole team!!\\r\\n🙌🙌🙌👌   \n",
       "133                                                                                      Amazing Biro ❤👌   \n",
       "109                   Really happy for all of you... Keep going on and on.... My good wishes to you all🥰   \n",
       "115                                                         Such an amazing composition, keep going 👍🏻👍🏻   \n",
       "52                                                                 You are great manan broo keep it uppp   \n",
       "41                                                                                                  ❤️✨🌸   \n",
       "76                                                       Congratulations for your first song brother ❤️😘   \n",
       "91                                                                                        Bohut hard 🥰🥰🥰   \n",
       "\n",
       "      score  likecount  \\\n",
       "114  0.0387         10   \n",
       "79   0.7430          8   \n",
       "127  0.6103          6   \n",
       "133  0.5859          6   \n",
       "109  0.8173          5   \n",
       "115  0.5859          4   \n",
       "52   0.6249          4   \n",
       "41   0.0000          4   \n",
       "76   0.5994          4   \n",
       "91  -0.1027          4   \n",
       "\n",
       "                                                                                              clean_text  \\\n",
       "114                                         it short but ñïçë just a suggestion increase the no of lines   \n",
       "79   keep it up dear achieve more and more in life may success always be yours stay blessed congrats ...   \n",
       "127                                                                           congrats to the whole team   \n",
       "133                                                                                         amazing biro   \n",
       "109                           really happy for all of you keep going on and on my good wishes to you all   \n",
       "115                                                               such an amazing composition keep going   \n",
       "52                                                                 you are great manan broo keep it uppp   \n",
       "41                                                                                                         \n",
       "76                                                           congratulations for your first song brother   \n",
       "91                                                                                            bohut hard   \n",
       "\n",
       "     clean_text_score  \n",
       "114            0.0387  \n",
       "79             0.9274  \n",
       "127            0.5267  \n",
       "133            0.5859  \n",
       "109            0.8173  \n",
       "115            0.5859  \n",
       "52             0.6249  \n",
       "41             0.0000  \n",
       "76             0.5994  \n",
       "91            -0.1027  "
      ]
     },
     "execution_count": 19,
     "metadata": {},
     "output_type": "execute_result"
    }
   ],
   "source": [
    "df_like_ranking.head(10)"
   ]
  },
  {
   "cell_type": "code",
   "execution_count": 20,
   "metadata": {},
   "outputs": [
    {
     "data": {
      "text/html": [
       "<div>\n",
       "<style scoped>\n",
       "    .dataframe tbody tr th:only-of-type {\n",
       "        vertical-align: middle;\n",
       "    }\n",
       "\n",
       "    .dataframe tbody tr th {\n",
       "        vertical-align: top;\n",
       "    }\n",
       "\n",
       "    .dataframe thead th {\n",
       "        text-align: right;\n",
       "    }\n",
       "</style>\n",
       "<table border=\"1\" class=\"dataframe\">\n",
       "  <thead>\n",
       "    <tr style=\"text-align: right;\">\n",
       "      <th></th>\n",
       "      <th>text</th>\n",
       "      <th>score</th>\n",
       "      <th>likecount</th>\n",
       "      <th>clean_text</th>\n",
       "      <th>clean_text_score</th>\n",
       "    </tr>\n",
       "  </thead>\n",
       "  <tbody>\n",
       "    <tr>\n",
       "      <th>114</th>\n",
       "      <td>It's short but ÑïÇë \\r\\nJust a suggestion increase the no of lines 😇</td>\n",
       "      <td>0.0387</td>\n",
       "      <td>10</td>\n",
       "      <td>it short but ñïçë just a suggestion increase the no of lines</td>\n",
       "      <td>0.0387</td>\n",
       "    </tr>\n",
       "    <tr>\n",
       "      <th>79</th>\n",
       "      <td>Keep it up dear, achieve more and more in life, may success always be yours. Stay blessed.Congra...</td>\n",
       "      <td>0.7430</td>\n",
       "      <td>8</td>\n",
       "      <td>keep it up dear achieve more and more in life may success always be yours stay blessed congrats ...</td>\n",
       "      <td>0.9274</td>\n",
       "    </tr>\n",
       "    <tr>\n",
       "      <th>127</th>\n",
       "      <td>congrats to the whole team!!\\r\\n🙌🙌🙌👌</td>\n",
       "      <td>0.6103</td>\n",
       "      <td>6</td>\n",
       "      <td>congrats to the whole team</td>\n",
       "      <td>0.5267</td>\n",
       "    </tr>\n",
       "    <tr>\n",
       "      <th>133</th>\n",
       "      <td>Amazing Biro ❤👌</td>\n",
       "      <td>0.5859</td>\n",
       "      <td>6</td>\n",
       "      <td>amazing biro</td>\n",
       "      <td>0.5859</td>\n",
       "    </tr>\n",
       "    <tr>\n",
       "      <th>109</th>\n",
       "      <td>Really happy for all of you... Keep going on and on.... My good wishes to you all🥰</td>\n",
       "      <td>0.8173</td>\n",
       "      <td>5</td>\n",
       "      <td>really happy for all of you keep going on and on my good wishes to you all</td>\n",
       "      <td>0.8173</td>\n",
       "    </tr>\n",
       "    <tr>\n",
       "      <th>...</th>\n",
       "      <td>...</td>\n",
       "      <td>...</td>\n",
       "      <td>...</td>\n",
       "      <td>...</td>\n",
       "      <td>...</td>\n",
       "    </tr>\n",
       "    <tr>\n",
       "      <th>87</th>\n",
       "      <td>All the best .keep  going.  Many more to come</td>\n",
       "      <td>0.6369</td>\n",
       "      <td>1</td>\n",
       "      <td>all the best keep going many more to come</td>\n",
       "      <td>0.6369</td>\n",
       "    </tr>\n",
       "    <tr>\n",
       "      <th>1</th>\n",
       "      <td>It is sooo gooooddddd... melodious voice ♥️♥️</td>\n",
       "      <td>0.0000</td>\n",
       "      <td>0</td>\n",
       "      <td>it is sooo gooooddddd melodious voice</td>\n",
       "      <td>0.0000</td>\n",
       "    </tr>\n",
       "    <tr>\n",
       "      <th>3</th>\n",
       "      <td>Wonderful work !</td>\n",
       "      <td>0.6114</td>\n",
       "      <td>0</td>\n",
       "      <td>wonderful work</td>\n",
       "      <td>0.5719</td>\n",
       "    </tr>\n",
       "    <tr>\n",
       "      <th>2</th>\n",
       "      <td>😳😳😳</td>\n",
       "      <td>0.0000</td>\n",
       "      <td>0</td>\n",
       "      <td></td>\n",
       "      <td>0.0000</td>\n",
       "    </tr>\n",
       "    <tr>\n",
       "      <th>0</th>\n",
       "      <td>wonderful voice \\r\\nI want can  you sing a Oriya song for me  on my lyrics 💚</td>\n",
       "      <td>0.6124</td>\n",
       "      <td>0</td>\n",
       "      <td>wonderful voice i want can you sing a oriya song for me on my lyrics</td>\n",
       "      <td>0.6124</td>\n",
       "    </tr>\n",
       "  </tbody>\n",
       "</table>\n",
       "<p>144 rows × 5 columns</p>\n",
       "</div>"
      ],
      "text/plain": [
       "                                                                                                    text  \\\n",
       "114                                 It's short but ÑïÇë \\r\\nJust a suggestion increase the no of lines 😇   \n",
       "79   Keep it up dear, achieve more and more in life, may success always be yours. Stay blessed.Congra...   \n",
       "127                                                                 congrats to the whole team!!\\r\\n🙌🙌🙌👌   \n",
       "133                                                                                      Amazing Biro ❤👌   \n",
       "109                   Really happy for all of you... Keep going on and on.... My good wishes to you all🥰   \n",
       "..                                                                                                   ...   \n",
       "87                                                         All the best .keep  going.  Many more to come   \n",
       "1                                                          It is sooo gooooddddd... melodious voice ♥️♥️   \n",
       "3                                                                                       Wonderful work !   \n",
       "2                                                                                                    😳😳😳   \n",
       "0                           wonderful voice \\r\\nI want can  you sing a Oriya song for me  on my lyrics 💚   \n",
       "\n",
       "      score  likecount  \\\n",
       "114  0.0387         10   \n",
       "79   0.7430          8   \n",
       "127  0.6103          6   \n",
       "133  0.5859          6   \n",
       "109  0.8173          5   \n",
       "..      ...        ...   \n",
       "87   0.6369          1   \n",
       "1    0.0000          0   \n",
       "3    0.6114          0   \n",
       "2    0.0000          0   \n",
       "0    0.6124          0   \n",
       "\n",
       "                                                                                              clean_text  \\\n",
       "114                                         it short but ñïçë just a suggestion increase the no of lines   \n",
       "79   keep it up dear achieve more and more in life may success always be yours stay blessed congrats ...   \n",
       "127                                                                           congrats to the whole team   \n",
       "133                                                                                         amazing biro   \n",
       "109                           really happy for all of you keep going on and on my good wishes to you all   \n",
       "..                                                                                                   ...   \n",
       "87                                                             all the best keep going many more to come   \n",
       "1                                                                  it is sooo gooooddddd melodious voice   \n",
       "3                                                                                         wonderful work   \n",
       "2                                                                                                          \n",
       "0                                   wonderful voice i want can you sing a oriya song for me on my lyrics   \n",
       "\n",
       "     clean_text_score  \n",
       "114            0.0387  \n",
       "79             0.9274  \n",
       "127            0.5267  \n",
       "133            0.5859  \n",
       "109            0.8173  \n",
       "..                ...  \n",
       "87             0.6369  \n",
       "1              0.0000  \n",
       "3              0.5719  \n",
       "2              0.0000  \n",
       "0              0.6124  \n",
       "\n",
       "[144 rows x 5 columns]"
      ]
     },
     "execution_count": 20,
     "metadata": {},
     "output_type": "execute_result"
    }
   ],
   "source": [
    "df_like_ranking"
   ]
  },
  {
   "cell_type": "code",
   "execution_count": 95,
   "metadata": {},
   "outputs": [
    {
     "name": "stdout",
     "output_type": "stream",
     "text": [
      "<class 'pandas.core.frame.DataFrame'>\n",
      "RangeIndex: 144 entries, 0 to 143\n",
      "Data columns (total 5 columns):\n",
      " #   Column            Non-Null Count  Dtype  \n",
      "---  ------            --------------  -----  \n",
      " 0   text              144 non-null    object \n",
      " 1   score             144 non-null    float64\n",
      " 2   likecount         144 non-null    int64  \n",
      " 3   clean_text        144 non-null    object \n",
      " 4   clean_text_score  144 non-null    float64\n",
      "dtypes: float64(2), int64(1), object(2)\n",
      "memory usage: 5.8+ KB\n"
     ]
    }
   ],
   "source": [
    "df.info()"
   ]
  },
  {
   "cell_type": "code",
   "execution_count": 21,
   "metadata": {},
   "outputs": [],
   "source": [
    "def pick_up_comments(data,score,threshold):\n",
    "    if score > 0:\n",
    "        df =  data.loc[(df_like_ranking[\"clean_text_score\"] >= score) & (df_like_ranking[\"likecount\"] >= threshold)].sort_values(['likecount', 'score'],ascending=[False, False])\n",
    "        return df\n",
    "    elif score <= 0:\n",
    "        df =  data.loc[(df_like_ranking[\"clean_text_score\"] <= score) & (df_like_ranking[\"likecount\"] >= threshold)].sort_values(['likecount', 'score'],ascending=[False, True])\n",
    "        return df\n",
    "              "
   ]
  },
  {
   "cell_type": "markdown",
   "metadata": {},
   "source": [
    "----"
   ]
  },
  {
   "cell_type": "markdown",
   "metadata": {},
   "source": []
  },
  {
   "cell_type": "code",
   "execution_count": 22,
   "metadata": {},
   "outputs": [
    {
     "data": {
      "text/html": [
       "<div>\n",
       "<style scoped>\n",
       "    .dataframe tbody tr th:only-of-type {\n",
       "        vertical-align: middle;\n",
       "    }\n",
       "\n",
       "    .dataframe tbody tr th {\n",
       "        vertical-align: top;\n",
       "    }\n",
       "\n",
       "    .dataframe thead th {\n",
       "        text-align: right;\n",
       "    }\n",
       "</style>\n",
       "<table border=\"1\" class=\"dataframe\">\n",
       "  <thead>\n",
       "    <tr style=\"text-align: right;\">\n",
       "      <th></th>\n",
       "      <th>text</th>\n",
       "      <th>score</th>\n",
       "      <th>likecount</th>\n",
       "      <th>clean_text</th>\n",
       "      <th>clean_text_score</th>\n",
       "    </tr>\n",
       "  </thead>\n",
       "  <tbody>\n",
       "  </tbody>\n",
       "</table>\n",
       "</div>"
      ],
      "text/plain": [
       "Empty DataFrame\n",
       "Columns: [text, score, likecount, clean_text, clean_text_score]\n",
       "Index: []"
      ]
     },
     "execution_count": 22,
     "metadata": {},
     "output_type": "execute_result"
    }
   ],
   "source": [
    "pick_up_comments(df_like_ranking,0.8,50)"
   ]
  },
  {
   "cell_type": "code",
   "execution_count": 23,
   "metadata": {},
   "outputs": [
    {
     "data": {
      "text/html": [
       "<div>\n",
       "<style scoped>\n",
       "    .dataframe tbody tr th:only-of-type {\n",
       "        vertical-align: middle;\n",
       "    }\n",
       "\n",
       "    .dataframe tbody tr th {\n",
       "        vertical-align: top;\n",
       "    }\n",
       "\n",
       "    .dataframe thead th {\n",
       "        text-align: right;\n",
       "    }\n",
       "</style>\n",
       "<table border=\"1\" class=\"dataframe\">\n",
       "  <thead>\n",
       "    <tr style=\"text-align: right;\">\n",
       "      <th></th>\n",
       "      <th>text</th>\n",
       "      <th>score</th>\n",
       "      <th>likecount</th>\n",
       "      <th>clean_text</th>\n",
       "      <th>clean_text_score</th>\n",
       "    </tr>\n",
       "  </thead>\n",
       "  <tbody>\n",
       "  </tbody>\n",
       "</table>\n",
       "</div>"
      ],
      "text/plain": [
       "Empty DataFrame\n",
       "Columns: [text, score, likecount, clean_text, clean_text_score]\n",
       "Index: []"
      ]
     },
     "execution_count": 23,
     "metadata": {},
     "output_type": "execute_result"
    }
   ],
   "source": [
    "pick_up_comments(df_like_ranking,-0.5,50)"
   ]
  },
  {
   "cell_type": "code",
   "execution_count": 24,
   "metadata": {},
   "outputs": [
    {
     "data": {
      "text/html": [
       "<div>\n",
       "<style scoped>\n",
       "    .dataframe tbody tr th:only-of-type {\n",
       "        vertical-align: middle;\n",
       "    }\n",
       "\n",
       "    .dataframe tbody tr th {\n",
       "        vertical-align: top;\n",
       "    }\n",
       "\n",
       "    .dataframe thead th {\n",
       "        text-align: right;\n",
       "    }\n",
       "</style>\n",
       "<table border=\"1\" class=\"dataframe\">\n",
       "  <thead>\n",
       "    <tr style=\"text-align: right;\">\n",
       "      <th></th>\n",
       "      <th>text</th>\n",
       "      <th>score</th>\n",
       "      <th>likecount</th>\n",
       "      <th>clean_text</th>\n",
       "      <th>clean_text_score</th>\n",
       "    </tr>\n",
       "  </thead>\n",
       "  <tbody>\n",
       "  </tbody>\n",
       "</table>\n",
       "</div>"
      ],
      "text/plain": [
       "Empty DataFrame\n",
       "Columns: [text, score, likecount, clean_text, clean_text_score]\n",
       "Index: []"
      ]
     },
     "execution_count": 24,
     "metadata": {},
     "output_type": "execute_result"
    }
   ],
   "source": [
    "pick_up_comments(df_like_ranking,-0.4,50)"
   ]
  },
  {
   "cell_type": "code",
   "execution_count": 25,
   "metadata": {},
   "outputs": [
    {
     "data": {
      "text/html": [
       "<div>\n",
       "<style scoped>\n",
       "    .dataframe tbody tr th:only-of-type {\n",
       "        vertical-align: middle;\n",
       "    }\n",
       "\n",
       "    .dataframe tbody tr th {\n",
       "        vertical-align: top;\n",
       "    }\n",
       "\n",
       "    .dataframe thead th {\n",
       "        text-align: right;\n",
       "    }\n",
       "</style>\n",
       "<table border=\"1\" class=\"dataframe\">\n",
       "  <thead>\n",
       "    <tr style=\"text-align: right;\">\n",
       "      <th></th>\n",
       "      <th>text</th>\n",
       "      <th>score</th>\n",
       "      <th>likecount</th>\n",
       "      <th>clean_text</th>\n",
       "      <th>clean_text_score</th>\n",
       "    </tr>\n",
       "  </thead>\n",
       "  <tbody>\n",
       "  </tbody>\n",
       "</table>\n",
       "</div>"
      ],
      "text/plain": [
       "Empty DataFrame\n",
       "Columns: [text, score, likecount, clean_text, clean_text_score]\n",
       "Index: []"
      ]
     },
     "execution_count": 25,
     "metadata": {},
     "output_type": "execute_result"
    }
   ],
   "source": [
    "pick_up_comments(df_like_ranking,-0.6,20)"
   ]
  },
  {
   "cell_type": "code",
   "execution_count": 26,
   "metadata": {},
   "outputs": [],
   "source": [
    "from scipy.stats import kurtosis\n",
    "doanes = lambda data: int(1 + np.log(len(data)) + np.log(1 +  kurtosis(data) * (len(data)/6.)** 0.5))"
   ]
  },
  {
   "cell_type": "code",
   "execution_count": 27,
   "metadata": {},
   "outputs": [
    {
     "data": {
      "text/plain": [
       "<Axes: >"
      ]
     },
     "execution_count": 27,
     "metadata": {},
     "output_type": "execute_result"
    },
    {
     "data": {
      "image/png": "[encoded data removed]",
      "text/plain": [
       "<Figure size 640x480 with 1 Axes>"
      ]
     },
     "metadata": {},
     "output_type": "display_data"
    }
   ],
   "source": [
    "df_like_ranking.clean_text_score.hist()"
   ]
  },
  {
   "cell_type": "markdown",
   "metadata": {},
   "source": [
    "# Histogram of the score"
   ]
  },
  {
   "cell_type": "code",
   "execution_count": 28,
   "metadata": {},
   "outputs": [],
   "source": [
    "from scipy.stats import kurtosis\n",
    "doanes = lambda data: int(1 + np.log(len(data)) + np.log(1 +  kurtosis(data) * (len(data)/6.)** 0.5))"
   ]
  },
  {
   "cell_type": "code",
   "execution_count": 29,
   "metadata": {},
   "outputs": [
    {
     "data": {
      "text/plain": [
       "<Axes: >"
      ]
     },
     "execution_count": 29,
     "metadata": {},
     "output_type": "execute_result"
    },
    {
     "data": {
      "image/png": "[encoded data removed]",
      "text/plain": [
       "<Figure size 640x480 with 1 Axes>"
      ]
     },
     "metadata": {},
     "output_type": "display_data"
    }
   ],
   "source": [
    "df_like_ranking.likecount.hist(bins = doanes(df_like_ranking[\"likecount\"]))"
   ]
  },
  {
   "cell_type": "code",
   "execution_count": 105,
   "metadata": {},
   "outputs": [
    {
     "data": {
      "text/plain": [
       "<seaborn.axisgrid.JointGrid at 0x287203b30>"
      ]
     },
     "execution_count": 105,
     "metadata": {},
     "output_type": "execute_result"
    },
    {
     "data": {
      "image/png": "[encoded data removed]",
      "text/plain": [
       "<Figure size 600x600 with 3 Axes>"
      ]
     },
     "metadata": {},
     "output_type": "display_data"
    }
   ],
   "source": [
    "sns.jointplot(x=\"clean_text_score\", y=\"likecount\", data=df_like_ranking)"
   ]
  },
  {
   "cell_type": "code",
   "execution_count": null,
   "metadata": {},
   "outputs": [],
   "source": []
  }
 ],
 "metadata": {
  "kernelspec": {
   "display_name": "Python 3",
   "language": "python",
   "name": "python3"
  },
  "language_info": {
   "codemirror_mode": {
    "name": "ipython",
    "version": 3
   },
   "file_extension": ".py",
   "mimetype": "text/x-python",
   "name": "python",
   "nbconvert_exporter": "python",
   "pygments_lexer": "ipython3",
   "version": "3.12.0"
  }
 },
 "nbformat": 4,
 "nbformat_minor": 2
}
